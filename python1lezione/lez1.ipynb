{
 "cells": [
  {
   "cell_type": "code",
   "execution_count": null,
   "id": "221be83f",
   "metadata": {
    "vscode": {
     "languageId": "plaintext"
    }
   },
   "outputs": [],
   "source": [
    "a = 3\n",
    "s = \"lelele\"\n",
    "b = True\n",
    "print(type(b))"
   ]
  },
  {
   "cell_type": "markdown",
   "id": "6690ad2f",
   "metadata": {},
   "source": [
    "testo bello"
   ]
  }
 ],
 "metadata": {
  "language_info": {
   "name": "python"
  }
 },
 "nbformat": 4,
 "nbformat_minor": 5
}
